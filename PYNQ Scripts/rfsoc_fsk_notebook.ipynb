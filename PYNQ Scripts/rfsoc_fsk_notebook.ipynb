{
 "cells": [
  {
   "cell_type": "code",
   "execution_count": 1,
   "id": "4e906977",
   "metadata": {},
   "outputs": [],
   "source": [
    "from Py_scripts.overlay import FSKOverlay"
   ]
  },
  {
   "cell_type": "code",
   "execution_count": 2,
   "id": "689866d2",
   "metadata": {},
   "outputs": [
    {
     "data": {
      "application/javascript": [
       "\n",
       "try {\n",
       "require(['notebook/js/codecell'], function(codecell) {\n",
       "  codecell.CodeCell.options_default.highlight_modes[\n",
       "      'magic_text/x-csrc'] = {'reg':[/^%%microblaze/]};\n",
       "  Jupyter.notebook.events.one('kernel_ready.Kernel', function(){\n",
       "      Jupyter.notebook.get_cells().map(function(cell){\n",
       "          if (cell.cell_type == 'code'){ cell.auto_highlight(); } }) ;\n",
       "  });\n",
       "});\n",
       "} catch (e) {};\n"
      ]
     },
     "metadata": {},
     "output_type": "display_data"
    },
    {
     "data": {
      "application/javascript": [
       "\n",
       "try {\n",
       "require(['notebook/js/codecell'], function(codecell) {\n",
       "  codecell.CodeCell.options_default.highlight_modes[\n",
       "      'magic_text/x-csrc'] = {'reg':[/^%%pybind11/]};\n",
       "  Jupyter.notebook.events.one('kernel_ready.Kernel', function(){\n",
       "      Jupyter.notebook.get_cells().map(function(cell){\n",
       "          if (cell.cell_type == 'code'){ cell.auto_highlight(); } }) ;\n",
       "  });\n",
       "});\n",
       "} catch (e) {};\n"
      ]
     },
     "metadata": {},
     "output_type": "display_data"
    }
   ],
   "source": [
    "ol = FSKOverlay(bitfile_name='/home/xilinx/jupyter_notebooks/rfsoc_fsk/Bitstreams/rfsoc_fsk_v7_40.bit', run_test=False, debug_test=False)\n",
    "#ol = FSKOverlay(bitfile_name='/home/xilinx/jupyter_notebooks/rfsoc_fsk/Bitstreams/rfsoc_fsk_v8_2.bit', run_test=False, debug_test=False)\n",
    "#ol = FSKOverlay(bitfile_name='/home/xilinx/jupyter_notebooks/rfsoc_fsk/Bitstreams/rfsoc_pfsk_v1_2.bit', run_test=False, debug_test=False)"
   ]
  },
  {
   "cell_type": "code",
   "execution_count": 3,
   "id": "459d0996",
   "metadata": {},
   "outputs": [
    {
     "data": {
      "application/vnd.jupyter.widget-view+json": {
       "model_id": "38e4ce5c9e27425eb9dd877696aac832",
       "version_major": 2,
       "version_minor": 0
      },
      "text/plain": [
       "Accordion(children=(VBox(children=(Tab(children=(FigureWidget({\n",
       "    'data': [{'mode': 'markers',\n",
       "             …"
      ]
     },
     "metadata": {},
     "output_type": "display_data"
    }
   ],
   "source": [
    "ol.radio_transmitter.visualise()"
   ]
  },
  {
   "cell_type": "code",
   "execution_count": 4,
   "id": "635b7fef",
   "metadata": {
    "scrolled": false
   },
   "outputs": [
    {
     "data": {
      "application/vnd.jupyter.widget-view+json": {
       "model_id": "bc7f831824654ed0afb0efe19a51f31f",
       "version_major": 2,
       "version_minor": 0
      },
      "text/plain": [
       "Accordion(children=(VBox(children=(Tab(children=(FigureWidget({\n",
       "    'data': [{'mode': 'markers',\n",
       "             …"
      ]
     },
     "metadata": {},
     "output_type": "display_data"
    }
   ],
   "source": [
    "ol.radio_receiver.visualise()"
   ]
  },
  {
   "cell_type": "code",
   "execution_count": 15,
   "id": "ec708843",
   "metadata": {},
   "outputs": [],
   "source": [
    "ol.radio_receiver.controller.freq_offset = 31 # Use 31 in back to back oct24 2:37pm"
   ]
  },
  {
   "cell_type": "code",
   "execution_count": 110,
   "id": "514e0982",
   "metadata": {},
   "outputs": [],
   "source": [
    "ol.radio_receiver.controller.threshold = 0x4AAA\n",
    "#ol.radio_receiver.controller.threshold = 0x24B7 # Use this in back to back oct24 2:37pm\n",
    "#ol.radio_receiver.controller.threshold = 0x2000\n",
    "#ol.radio_receiver.controller.threshold = 0x27B0"
   ]
  },
  {
   "cell_type": "code",
   "execution_count": 107,
   "id": "d6df1775",
   "metadata": {},
   "outputs": [],
   "source": [
    "ol.radio_transmitter.controller.enable_data = 0\n",
    "ol.radio_transmitter.controller.enable_transmitter = 0\n",
    "ol.radio_receiver.controller.reset_time_sync = 1\n",
    "ol.radio_receiver.controller.reset_phase_sync = 1"
   ]
  },
  {
   "cell_type": "code",
   "execution_count": 108,
   "id": "189cc6c8",
   "metadata": {},
   "outputs": [],
   "source": [
    "ol.radio_receiver.controller.reset_time_sync = 0\n",
    "ol.radio_receiver.controller.reset_phase_sync = 0\n",
    "ol.radio_transmitter.controller.enable_data = 0\n",
    "ol.radio_transmitter.controller.enable_transmitter = 1"
   ]
  },
  {
   "cell_type": "code",
   "execution_count": 109,
   "id": "bcfdb581",
   "metadata": {},
   "outputs": [],
   "source": [
    "ol.radio_transmitter.controller.enable_data = 1\n",
    "ol.radio_transmitter.controller.enable_transmitter = 1"
   ]
  },
  {
   "cell_type": "code",
   "execution_count": 27,
   "id": "a4e37b9b",
   "metadata": {},
   "outputs": [],
   "source": [
    "ol.radio_receiver.controller.freq_offset = 0"
   ]
  },
  {
   "cell_type": "code",
   "execution_count": 23,
   "id": "d15a1fdc",
   "metadata": {},
   "outputs": [
    {
     "data": {
      "text/plain": [
       "-0.0"
      ]
     },
     "execution_count": 23,
     "metadata": {},
     "output_type": "execute_result"
    }
   ],
   "source": [
    "ol.radio_receiver.controller.freq_offset"
   ]
  },
  {
   "cell_type": "code",
   "execution_count": null,
   "id": "c62a7ae4",
   "metadata": {},
   "outputs": [],
   "source": [
    "import time\n",
    "while 1:\n",
    "    ol.radio_transmitter.controller.enable_data = 0\n",
    "    ol.radio_transmitter.controller.enable_transmitter = 0\n",
    "    time.sleep(0.000005)\n",
    "    ol.radio_transmitter.controller.enable_data = 1\n",
    "    ol.radio_transmitter.controller.enable_transmitter = 1"
   ]
  },
  {
   "cell_type": "code",
   "execution_count": 10,
   "id": "a22bd16c",
   "metadata": {},
   "outputs": [
    {
     "data": {
      "application/vnd.jupyter.widget-view+json": {
       "model_id": "2bf92a687dd9404a91d5774ebb8075ba",
       "version_major": 2,
       "version_minor": 0
      },
      "text/plain": [
       "Accordion(children=(HBox(children=(VBox(children=(Textarea(value='', disabled=True, layout=Layout(height='200p…"
      ]
     },
     "metadata": {},
     "output_type": "display_data"
    }
   ],
   "source": [
    "ol.radio_receiver.terminal()"
   ]
  },
  {
   "cell_type": "code",
   "execution_count": 11,
   "id": "ce42fb75",
   "metadata": {},
   "outputs": [],
   "source": [
    "ol.radio_transmitter.data('Hello World!\\r')\n",
    "ol.radio_transmitter.start()"
   ]
  },
  {
   "cell_type": "code",
   "execution_count": 12,
   "id": "a9d73c3d",
   "metadata": {},
   "outputs": [],
   "source": [
    "ol.radio_transmitter.data(''.join(['The quick brown fox jumps over the lazy dog.\\r',\n",
    "                             'How razorback-jumping frogs can level six piqued gymnasts.\\r']))\n",
    "ol.radio_transmitter.start()"
   ]
  },
  {
   "cell_type": "code",
   "execution_count": 15,
   "id": "497978a5",
   "metadata": {
    "scrolled": false
   },
   "outputs": [
    {
     "name": "stdout",
     "output_type": "stream",
     "text": [
      "[185  81 189 125  84  41 219 191  84  98   0   0  63 112  28  17   0   0\n",
      "   5  12   0  72 101 108 108 111  32  87 111 114 108 100  33   0   0   0\n",
      "   0   0   0   0   0   0   0   0   0   0   0   0   0   0   0   0   0   0\n",
      "   0   0   0   0   0   0   0   0   0   0]\n"
     ]
    }
   ],
   "source": [
    "from pynq import allocate\n",
    "import numpy as np\n",
    "from random import randint\n",
    "\n",
    "frame_size = 44\n",
    "random_size = 10\n",
    "        \n",
    "_flags = 0\n",
    "_frame_number = 0\n",
    "data=np.array([72, 101, 108, 108, 111,  32,  87, 111, 114, 108, 100,  33])\n",
    "dtype=np.uint8 \n",
    "eof=1\n",
    "padding=0\n",
    "msg = np.array(data, dtype=np.uint8)\n",
    "# Append Barker and Random Data\n",
    "bkr = np.array([0, 0, 63, 112, 28, len(msg) + 5, _frame_number, _flags, 5, len(msg), padding], dtype=np.uint8)\n",
    "rnd = np.array([randint(0, 255) for p in range(0, random_size)], dtype=np.uint8)\n",
    "seq = np.append(bkr, msg)\n",
    "seq = np.append(rnd, seq)\n",
    "pad = np.append(seq, np.zeros(int(np.ceil((len(rnd) + len(bkr) + len(msg))/32) * 32 - (len(rnd) + len(bkr) + len(msg))), dtype=np.uint8))\n",
    "txbuf = allocate(shape=(len(pad),), dtype=np.uint8)\n",
    "txbuf[:] = pad[:]\n",
    "print(txbuf)\n",
    "rxbuf = allocate(shape=(len(txbuf),), dtype = np.uint8)"
   ]
  },
  {
   "cell_type": "code",
   "execution_count": 16,
   "id": "e1104b23",
   "metadata": {},
   "outputs": [
    {
     "ename": "RuntimeError",
     "evalue": "DMA channel not started",
     "output_type": "error",
     "traceback": [
      "\u001b[0;31m---------------------------------------------------------------------------\u001b[0m",
      "\u001b[0;31mRuntimeError\u001b[0m                              Traceback (most recent call last)",
      "Input \u001b[0;32mIn [16]\u001b[0m, in \u001b[0;36m<cell line: 4>\u001b[0;34m()\u001b[0m\n\u001b[1;32m      1\u001b[0m ol\u001b[38;5;241m.\u001b[39mradio_transmitter\u001b[38;5;241m.\u001b[39maxi_dma\u001b[38;5;241m.\u001b[39msendchannel\u001b[38;5;241m.\u001b[39mtransfer(txbuf)\n\u001b[1;32m      2\u001b[0m ol\u001b[38;5;241m.\u001b[39mradio_transmitter\u001b[38;5;241m.\u001b[39maxi_dma\u001b[38;5;241m.\u001b[39msendchannel\u001b[38;5;241m.\u001b[39mwait()\n\u001b[0;32m----> 4\u001b[0m \u001b[43mol\u001b[49m\u001b[38;5;241;43m.\u001b[39;49m\u001b[43mradio_receiver\u001b[49m\u001b[38;5;241;43m.\u001b[39;49m\u001b[43maxi_dma\u001b[49m\u001b[38;5;241;43m.\u001b[39;49m\u001b[43mrecvchannel\u001b[49m\u001b[38;5;241;43m.\u001b[39;49m\u001b[43mtransfer\u001b[49m\u001b[43m(\u001b[49m\u001b[43mrxbuf\u001b[49m\u001b[43m)\u001b[49m\n\u001b[1;32m      5\u001b[0m ol\u001b[38;5;241m.\u001b[39mradio_receiver\u001b[38;5;241m.\u001b[39mcontroller\u001b[38;5;241m.\u001b[39mtransfer \u001b[38;5;241m=\u001b[39m \u001b[38;5;241m1\u001b[39m\n\u001b[1;32m      6\u001b[0m ol\u001b[38;5;241m.\u001b[39mradio_receiver\u001b[38;5;241m.\u001b[39maxi_dma\u001b[38;5;241m.\u001b[39mrecvchannel\u001b[38;5;241m.\u001b[39mwait()\n",
      "File \u001b[0;32m/usr/local/share/pynq-venv/lib/python3.10/site-packages/pynq/lib/dma.py:136\u001b[0m, in \u001b[0;36m_SDMAChannel.transfer\u001b[0;34m(self, array, start, nbytes)\u001b[0m\n\u001b[1;32m    107\u001b[0m \u001b[38;5;124;03m\"\"\"Transfer memory with the DMA\u001b[39;00m\n\u001b[1;32m    108\u001b[0m \n\u001b[1;32m    109\u001b[0m \u001b[38;5;124;03mTransfer must only be called when the channel is idle.\u001b[39;00m\n\u001b[0;32m   (...)\u001b[0m\n\u001b[1;32m    133\u001b[0m \n\u001b[1;32m    134\u001b[0m \u001b[38;5;124;03m\"\"\"\u001b[39;00m\n\u001b[1;32m    135\u001b[0m \u001b[38;5;28;01mif\u001b[39;00m \u001b[38;5;129;01mnot\u001b[39;00m \u001b[38;5;28mself\u001b[39m\u001b[38;5;241m.\u001b[39mrunning:\n\u001b[0;32m--> 136\u001b[0m     \u001b[38;5;28;01mraise\u001b[39;00m \u001b[38;5;167;01mRuntimeError\u001b[39;00m(\u001b[38;5;124m\"\u001b[39m\u001b[38;5;124mDMA channel not started\u001b[39m\u001b[38;5;124m\"\u001b[39m)\n\u001b[1;32m    137\u001b[0m \u001b[38;5;28;01mif\u001b[39;00m \u001b[38;5;129;01mnot\u001b[39;00m \u001b[38;5;28mself\u001b[39m\u001b[38;5;241m.\u001b[39midle \u001b[38;5;129;01mand\u001b[39;00m \u001b[38;5;129;01mnot\u001b[39;00m \u001b[38;5;28mself\u001b[39m\u001b[38;5;241m.\u001b[39m_first_transfer:\n\u001b[1;32m    138\u001b[0m     \u001b[38;5;28;01mraise\u001b[39;00m \u001b[38;5;167;01mRuntimeError\u001b[39;00m(\u001b[38;5;124m\"\u001b[39m\u001b[38;5;124mDMA channel not idle\u001b[39m\u001b[38;5;124m\"\u001b[39m)\n",
      "\u001b[0;31mRuntimeError\u001b[0m: DMA channel not started"
     ]
    }
   ],
   "source": [
    "ol.radio_transmitter.axi_dma.sendchannel.transfer(txbuf)\n",
    "ol.radio_transmitter.axi_dma.sendchannel.wait()\n",
    "\n",
    "ol.radio_receiver.axi_dma.recvchannel.transfer(rxbuf)\n",
    "ol.radio_receiver.controller.transfer = 1\n",
    "ol.radio_receiver.axi_dma.recvchannel.wait()\n",
    "ol.radio_receiver.controller.transfer = 0"
   ]
  },
  {
   "cell_type": "code",
   "execution_count": 12,
   "id": "26a89da1",
   "metadata": {},
   "outputs": [
    {
     "name": "stdout",
     "output_type": "stream",
     "text": [
      "[0 0 0 0 0 0 0 0 0 0 0 0 0 0 0 0 0 0 0 0 0 0 0 0 0 0 0 0 0 0 0 0 0 0 0 0 0\n",
      " 0 0 0 0 0 0 0 0 0 0 0 0 0 0 0 0 0 0 0 0 0 0 0 0 0 0 0]\n"
     ]
    }
   ],
   "source": [
    "print(rxbuf)"
   ]
  },
  {
   "cell_type": "code",
   "execution_count": 15,
   "id": "1c925c31",
   "metadata": {},
   "outputs": [
    {
     "name": "stdout",
     "output_type": "stream",
     "text": [
      "[0 0 0 0 0 0 0 0 0 0 0 0 0 0 0 0 0 0 0 0 0 0 0 0 0 0 0 0 0 0 0 0 0 0 0 0 0\n",
      " 0 0 0 0 0 0 0 0 0 0 0 0 0 0 0 0 0 0 0 0 0 0 0 0 0 0 0]\n"
     ]
    },
    {
     "ename": "RuntimeError",
     "evalue": "DMA channel not started",
     "output_type": "error",
     "traceback": [
      "\u001b[0;31m---------------------------------------------------------------------------\u001b[0m",
      "\u001b[0;31mRuntimeError\u001b[0m                              Traceback (most recent call last)",
      "Input \u001b[0;32mIn [15]\u001b[0m, in \u001b[0;36m<cell line: 8>\u001b[0;34m()\u001b[0m\n\u001b[1;32m      6\u001b[0m ol\u001b[38;5;241m.\u001b[39mradio_transmitter\u001b[38;5;241m.\u001b[39maxi_dma\u001b[38;5;241m.\u001b[39msendchannel\u001b[38;5;241m.\u001b[39mwait()\n\u001b[1;32m      7\u001b[0m ol\u001b[38;5;241m.\u001b[39mradio_receiver\u001b[38;5;241m.\u001b[39mcontroller\u001b[38;5;241m.\u001b[39mtransfer \u001b[38;5;241m=\u001b[39m \u001b[38;5;241m1\u001b[39m\n\u001b[0;32m----> 8\u001b[0m \u001b[43mol\u001b[49m\u001b[38;5;241;43m.\u001b[39;49m\u001b[43mradio_receiver\u001b[49m\u001b[38;5;241;43m.\u001b[39;49m\u001b[43maxi_dma\u001b[49m\u001b[38;5;241;43m.\u001b[39;49m\u001b[43mrecvchannel\u001b[49m\u001b[38;5;241;43m.\u001b[39;49m\u001b[43mwait\u001b[49m\u001b[43m(\u001b[49m\u001b[43m)\u001b[49m\n\u001b[1;32m      9\u001b[0m ol\u001b[38;5;241m.\u001b[39mradio_receiver\u001b[38;5;241m.\u001b[39mcontroller\u001b[38;5;241m.\u001b[39mtransfer \u001b[38;5;241m=\u001b[39m \u001b[38;5;241m0\u001b[39m\n\u001b[1;32m     10\u001b[0m \u001b[38;5;28mprint\u001b[39m(rxbuf)\n",
      "File \u001b[0;32m/usr/local/share/pynq-venv/lib/python3.10/site-packages/pynq/lib/dma.py:169\u001b[0m, in \u001b[0;36m_SDMAChannel.wait\u001b[0;34m(self)\u001b[0m\n\u001b[1;32m    167\u001b[0m \u001b[38;5;124;03m\"\"\"Wait for the transfer to complete\"\"\"\u001b[39;00m\n\u001b[1;32m    168\u001b[0m \u001b[38;5;28;01mif\u001b[39;00m \u001b[38;5;129;01mnot\u001b[39;00m \u001b[38;5;28mself\u001b[39m\u001b[38;5;241m.\u001b[39mrunning:\n\u001b[0;32m--> 169\u001b[0m     \u001b[38;5;28;01mraise\u001b[39;00m \u001b[38;5;167;01mRuntimeError\u001b[39;00m(\u001b[38;5;124m\"\u001b[39m\u001b[38;5;124mDMA channel not started\u001b[39m\u001b[38;5;124m\"\u001b[39m)\n\u001b[1;32m    170\u001b[0m \u001b[38;5;28;01mwhile\u001b[39;00m \u001b[38;5;28;01mTrue\u001b[39;00m:\n\u001b[1;32m    171\u001b[0m     error \u001b[38;5;241m=\u001b[39m \u001b[38;5;28mself\u001b[39m\u001b[38;5;241m.\u001b[39m_mmio\u001b[38;5;241m.\u001b[39mread(\u001b[38;5;28mself\u001b[39m\u001b[38;5;241m.\u001b[39m_offset \u001b[38;5;241m+\u001b[39m \u001b[38;5;241m4\u001b[39m)\n",
      "\u001b[0;31mRuntimeError\u001b[0m: DMA channel not started"
     ]
    }
   ],
   "source": [
    "#ol.radio_receiver.controller.receive_size = 32\n",
    "#buff_len = ol.radio_receiver.controller.receive_size\n",
    "#ol.radio_receiver._rx_buff.freebuffer()\n",
    "\n",
    "print(rxbuf)\n",
    "ol.radio_transmitter.axi_dma.sendchannel.wait()\n",
    "ol.radio_receiver.controller.transfer = 1\n",
    "ol.radio_receiver.axi_dma.recvchannel.wait()\n",
    "ol.radio_receiver.controller.transfer = 0\n",
    "print(rxbuf)"
   ]
  },
  {
   "cell_type": "code",
   "execution_count": 10,
   "id": "e7f1a2dd",
   "metadata": {},
   "outputs": [
    {
     "name": "stdout",
     "output_type": "stream",
     "text": [
      "[ 60  78  87  49 226 141  18 181  35  58   0   0  63 112  28  17   0   0\n",
      "   5  12   0  72 101 108 108 111  32  87 111 114 108 100  33   0   0   0\n",
      "   0   0   0   0   0   0   0   0   0   0   0   0   0   0   0   0   0   0\n",
      "   0   0   0   0   0   0   0   0   0   0]\n"
     ]
    }
   ],
   "source": [
    "# Exactly as in scrpits\n",
    "from pynq import allocate\n",
    "import numpy as np\n",
    "from random import randint\n",
    "\n",
    "frame_size = 44\n",
    "random_size = 10\n",
    "        \n",
    "_flags = 0\n",
    "_frame_number = 0\n",
    "data=np.array([72, 101, 108, 108, 111,  32,  87, 111, 114, 108, 100,  33])\n",
    "dtype=np.uint8 \n",
    "eof=1\n",
    "padding=0\n",
    "msg = np.array(data, dtype=np.uint8)\n",
    "# Append Barker and Random Data\n",
    "bkr = np.array([0, 0, 63, 112, 28, len(msg) + 5, _frame_number, _flags, 5, len(msg), padding], dtype=np.uint8)\n",
    "rnd = np.array([randint(0, 255) for p in range(0, random_size)], dtype=np.uint8)\n",
    "seq = np.append(bkr, msg)\n",
    "seq = np.append(rnd, seq)\n",
    "pad = np.append(seq, np.zeros(int(np.ceil((len(rnd) + len(bkr) + len(msg))/32) * 32 - (len(rnd) + len(bkr) + len(msg))), dtype=np.uint8))\n",
    "txbuf = allocate(shape=(len(pad),), dtype=np.uint8)\n",
    "txbuf[:] = pad[:]\n",
    "print(txbuf)\n",
    "rxbuf = allocate(shape=(len(txbuf),), dtype = np.uint8)"
   ]
  },
  {
   "cell_type": "code",
   "execution_count": 11,
   "id": "de0fe15a",
   "metadata": {},
   "outputs": [],
   "source": [
    "ol.radio_receiver.controller.transfer = 0\n",
    "ol.radio_receiver.controller.transfer = 1\n",
    "ol.radio_transmitter.axi_dma.sendchannel.transfer(txbuf)\n",
    "ol.radio_receiver.axi_dma.recvchannel.transfer(rxbuf)\n",
    "\n"
   ]
  },
  {
   "cell_type": "code",
   "execution_count": 12,
   "id": "598c281b",
   "metadata": {},
   "outputs": [
    {
     "data": {
      "text/plain": [
       "PynqBuffer([0, 0, 0, 0, 0, 0, 0, 0, 0, 0, 0, 0, 0, 0, 0, 0, 0, 0, 0, 0, 0,\n",
       "            0, 0, 0, 0, 0, 0, 0, 0, 0, 0, 0, 0, 0, 0, 0, 0, 0, 0, 0, 0, 0,\n",
       "            0, 0, 0, 0, 0, 0, 0, 0, 0, 0, 0, 0, 0, 0, 0, 0, 0, 0, 0, 0, 0,\n",
       "            0], dtype=uint8)"
      ]
     },
     "execution_count": 12,
     "metadata": {},
     "output_type": "execute_result"
    }
   ],
   "source": [
    "rxbuf"
   ]
  },
  {
   "cell_type": "code",
   "execution_count": 13,
   "id": "b8e9d3de",
   "metadata": {},
   "outputs": [],
   "source": [
    "ol.radio_transmitter.axi_dma.sendchannel.wait()"
   ]
  },
  {
   "cell_type": "code",
   "execution_count": null,
   "id": "8d7304b7",
   "metadata": {},
   "outputs": [],
   "source": [
    "ol.radio_receiver.axi_dma.recvchannel.wait()"
   ]
  },
  {
   "cell_type": "code",
   "execution_count": null,
   "id": "4d7951f5",
   "metadata": {},
   "outputs": [],
   "source": [
    "ol.radio_receiver.controller.transfer = 0"
   ]
  },
  {
   "cell_type": "code",
   "execution_count": 82,
   "id": "fa3c793f",
   "metadata": {},
   "outputs": [
    {
     "data": {
      "text/plain": [
       "11680"
      ]
     },
     "execution_count": 82,
     "metadata": {},
     "output_type": "execute_result"
    }
   ],
   "source": [
    "int(0x2DA0)"
   ]
  },
  {
   "cell_type": "code",
   "execution_count": null,
   "id": "2a2c49de",
   "metadata": {},
   "outputs": [],
   "source": []
  }
 ],
 "metadata": {
  "kernelspec": {
   "display_name": "Python 3 (ipykernel)",
   "language": "python",
   "name": "python3"
  },
  "language_info": {
   "codemirror_mode": {
    "name": "ipython",
    "version": 3
   },
   "file_extension": ".py",
   "mimetype": "text/x-python",
   "name": "python",
   "nbconvert_exporter": "python",
   "pygments_lexer": "ipython3",
   "version": "3.10.4"
  }
 },
 "nbformat": 4,
 "nbformat_minor": 5
}
